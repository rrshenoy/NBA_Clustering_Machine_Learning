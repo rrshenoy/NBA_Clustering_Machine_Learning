{
 "cells": [
  {
   "cell_type": "code",
   "execution_count": 453,
   "metadata": {},
   "outputs": [
    {
     "name": "stdout",
     "output_type": "stream",
     "text": [
      "The autoreload extension is already loaded. To reload it, use:\n",
      "  %reload_ext autoreload\n"
     ]
    }
   ],
   "source": [
    "import sys\n",
    "\n",
    "import tensorflow.keras\n",
    "from tensorflow.keras import Input\n",
    "from tensorflow.keras.models import Sequential\n",
    "from tensorflow.keras.layers import Dense\n",
    "from tensorflow.keras.layers import LeakyReLU\n",
    "import pandas as pd\n",
    "import sklearn as sk\n",
    "from sklearn import svm\n",
    "import tensorflow as tf\n",
    "import numpy as np\n",
    "from sklearn.model_selection import train_test_split\n",
    "import matplotlib.pyplot as plt\n",
    "from sklearn import metrics\n",
    "\n",
    "%load_ext autoreload\n",
    "%autoreload 2 \n",
    "%reload_ext autoreload"
   ]
  },
  {
   "cell_type": "code",
   "execution_count": 454,
   "metadata": {},
   "outputs": [
    {
     "name": "stdout",
     "output_type": "stream",
     "text": [
      "Training data: size 2747, feature_size: 38\n",
      "Test data: size 687, feature_size: 38\n"
     ]
    }
   ],
   "source": [
    "# Load the dataset into pandas\n",
    "df = pd.read_csv(\"supervised.csv\")\n",
    "training_data, test_data = train_test_split(df, test_size = 0.2)\n",
    "\n",
    "# Split the data into the x labels and y labels\n",
    "features = np.array([feature for feature in df.columns if feature != \"outcome\" and feature != \"home_team\" and feature != \"away_team\" and feature != \"date\"])\n",
    "label = np.array([\"outcome\"])\n",
    "x_training_data = training_data[features]\n",
    "y_training_data = training_data[label]\n",
    "x_test_data = test_data[features]\n",
    "y_test_data = test_data[label]\n",
    "\n",
    "# Convert float labels to integer labels\n",
    "y_training_data = y_training_data.astype(int)\n",
    "y_test_data = y_test_data.astype(int)\n",
    "\n",
    "print(\"Training data: size {}, feature_size: {}\".format(x_training_data.shape[0], x_training_data.shape[1]))\n",
    "print(\"Test data: size {}, feature_size: {}\".format(x_test_data.shape[0], x_test_data.shape[1]))"
   ]
  },
  {
   "cell_type": "code",
   "execution_count": 460,
   "metadata": {},
   "outputs": [
    {
     "name": "stdout",
     "output_type": "stream",
     "text": [
      "Model: \"sequential_96\"\n",
      "_________________________________________________________________\n",
      "Layer (type)                 Output Shape              Param #   \n",
      "=================================================================\n",
      "dense_264 (Dense)            (None, 1, 2)              78        \n",
      "=================================================================\n",
      "Total params: 78\n",
      "Trainable params: 78\n",
      "Non-trainable params: 0\n",
      "_________________________________________________________________\n"
     ]
    }
   ],
   "source": [
    "# Create the NN model on keras\n",
    "epochs = 75\n",
    "init_lr = 0.001\n",
    "\n",
    "model = Sequential(\n",
    "    [\n",
    "#         Dense(units = 5, activation = LeakyReLU(alpha = 0.1), input_shape = (1, x_training_data.shape[1])),\n",
    "#         Dense(units = 1, activation = LeakyReLU()),\n",
    "#         Dense(units = 50, activation = LeakyReLU()),\n",
    "#         Dense(units = 50, activation = LeakyReLU()),\n",
    "#         Dense(units = 50, activation = LeakyReLU()),\n",
    "        Dense(units = 2, activation = 'softmax', input_shape = (1, x_training_data.shape[1]))\n",
    "    ]\n",
    ")\n",
    "optimizer = tf.keras.optimizers.Adam(learning_rate=init_lr)\n",
    "model.compile(loss = 'sparse_categorical_crossentropy', optimizer = optimizer, metrics = ['accuracy'])\n",
    "model.summary()"
   ]
  },
  {
   "cell_type": "code",
   "execution_count": 461,
   "metadata": {},
   "outputs": [
    {
     "name": "stdout",
     "output_type": "stream",
     "text": [
      "Epoch 1/75\n",
      "Learning rate: 0.001\n",
      "WARNING:tensorflow:Model was constructed with shape (None, 1, 38) for input KerasTensor(type_spec=TensorSpec(shape=(None, 1, 38), dtype=tf.float32, name='dense_264_input'), name='dense_264_input', description=\"created by layer 'dense_264_input'\"), but it was called on an input with incompatible shape (None, 38).\n",
      "WARNING:tensorflow:Model was constructed with shape (None, 1, 38) for input KerasTensor(type_spec=TensorSpec(shape=(None, 1, 38), dtype=tf.float32, name='dense_264_input'), name='dense_264_input', description=\"created by layer 'dense_264_input'\"), but it was called on an input with incompatible shape (None, 38).\n",
      " 7/86 [=>............................] - ETA: 0s - loss: 522.7815 - accuracy: 0.5848 "
     ]
    },
    {
     "name": "stderr",
     "output_type": "stream",
     "text": [
      "2022-04-23 14:16:39.612382: I tensorflow/core/grappler/optimizers/custom_graph_optimizer_registry.cc:112] Plugin optimizer for device_type GPU is enabled.\n"
     ]
    },
    {
     "name": "stdout",
     "output_type": "stream",
     "text": [
      "83/86 [===========================>..] - ETA: 0s - loss: 312.4054 - accuracy: 0.5418WARNING:tensorflow:Model was constructed with shape (None, 1, 38) for input KerasTensor(type_spec=TensorSpec(shape=(None, 1, 38), dtype=tf.float32, name='dense_264_input'), name='dense_264_input', description=\"created by layer 'dense_264_input'\"), but it was called on an input with incompatible shape (None, 38).\n",
      "86/86 [==============================] - 1s 7ms/step - loss: 302.8962 - accuracy: 0.5417 - val_loss: 31.7913 - val_accuracy: 0.4556\n",
      "Epoch 2/75\n",
      "Learning rate: 0.0009000000000000001\n",
      "14/86 [===>..........................] - ETA: 0s - loss: 41.5237 - accuracy: 0.3616"
     ]
    },
    {
     "name": "stderr",
     "output_type": "stream",
     "text": [
      "2022-04-23 14:16:40.171978: I tensorflow/core/grappler/optimizers/custom_graph_optimizer_registry.cc:112] Plugin optimizer for device_type GPU is enabled.\n"
     ]
    },
    {
     "name": "stdout",
     "output_type": "stream",
     "text": [
      "86/86 [==============================] - 0s 5ms/step - loss: 30.4028 - accuracy: 0.4310 - val_loss: 24.1591 - val_accuracy: 0.4687\n",
      "Epoch 3/75\n",
      "Learning rate: 0.0008100000000000001\n",
      "86/86 [==============================] - 0s 5ms/step - loss: 21.4373 - accuracy: 0.4554 - val_loss: 16.6310 - val_accuracy: 0.4847\n",
      "Epoch 4/75\n",
      "Learning rate: 0.0007290000000000002\n",
      "86/86 [==============================] - 0s 4ms/step - loss: 14.5091 - accuracy: 0.4954 - val_loss: 12.2316 - val_accuracy: 0.5298\n",
      "Epoch 5/75\n",
      "Learning rate: 0.0006561000000000001\n",
      "86/86 [==============================] - 0s 4ms/step - loss: 11.0468 - accuracy: 0.5311 - val_loss: 9.3253 - val_accuracy: 0.5866\n",
      "Epoch 6/75\n",
      "Learning rate: 0.00059049\n",
      "86/86 [==============================] - 0s 5ms/step - loss: 8.8492 - accuracy: 0.5715 - val_loss: 7.9044 - val_accuracy: 0.6084\n",
      "Epoch 7/75\n",
      "Learning rate: 0.000531441\n",
      "86/86 [==============================] - 0s 4ms/step - loss: 7.3037 - accuracy: 0.5890 - val_loss: 6.6475 - val_accuracy: 0.6172\n",
      "Epoch 8/75\n",
      "Learning rate: 0.0004782969000000001\n",
      "86/86 [==============================] - 0s 5ms/step - loss: 5.9706 - accuracy: 0.5985 - val_loss: 5.4440 - val_accuracy: 0.6172\n",
      "Epoch 9/75\n",
      "Learning rate: 0.0004304672100000001\n",
      "86/86 [==============================] - 0s 5ms/step - loss: 4.8490 - accuracy: 0.6196 - val_loss: 4.5052 - val_accuracy: 0.6288\n",
      "Epoch 10/75\n",
      "Learning rate: 0.0003874204890000001\n",
      "86/86 [==============================] - 0s 5ms/step - loss: 3.8329 - accuracy: 0.6378 - val_loss: 3.4350 - val_accuracy: 0.6376\n",
      "Epoch 11/75\n",
      "Learning rate: 0.0003486784401000001\n",
      "86/86 [==============================] - 0s 5ms/step - loss: 3.0126 - accuracy: 0.6520 - val_loss: 2.6944 - val_accuracy: 0.6623\n",
      "Epoch 12/75\n",
      "Learning rate: 0.0003138105960900001\n",
      "86/86 [==============================] - 0s 5ms/step - loss: 2.3439 - accuracy: 0.6738 - val_loss: 2.5186 - val_accuracy: 0.6638\n",
      "Epoch 13/75\n",
      "Learning rate: 0.0002824295364810001\n",
      "86/86 [==============================] - 0s 5ms/step - loss: 1.8354 - accuracy: 0.6960 - val_loss: 1.6810 - val_accuracy: 0.7001\n",
      "Epoch 14/75\n",
      "Learning rate: 0.0002541865828329001\n",
      "86/86 [==============================] - 1s 6ms/step - loss: 1.5050 - accuracy: 0.7120 - val_loss: 1.4152 - val_accuracy: 0.7307\n",
      "Epoch 15/75\n",
      "Learning rate: 0.0002287679245496101\n",
      "86/86 [==============================] - 0s 5ms/step - loss: 1.2516 - accuracy: 0.7262 - val_loss: 1.3027 - val_accuracy: 0.7234\n",
      "Epoch 16/75\n",
      "Learning rate: 0.0002058911320946491\n",
      "86/86 [==============================] - 0s 4ms/step - loss: 1.1337 - accuracy: 0.7503 - val_loss: 1.1315 - val_accuracy: 0.7496\n",
      "Epoch 17/75\n",
      "Learning rate: 0.00018530201888518417\n",
      "86/86 [==============================] - 0s 5ms/step - loss: 1.0272 - accuracy: 0.7528 - val_loss: 1.0836 - val_accuracy: 0.7627\n",
      "Epoch 18/75\n",
      "Learning rate: 0.00016677181699666576\n",
      "86/86 [==============================] - 0s 6ms/step - loss: 0.9976 - accuracy: 0.7605 - val_loss: 1.0569 - val_accuracy: 0.7555\n",
      "Epoch 19/75\n",
      "Learning rate: 0.00015009463529699917\n",
      "86/86 [==============================] - 0s 5ms/step - loss: 0.9632 - accuracy: 0.7656 - val_loss: 0.9878 - val_accuracy: 0.7744\n",
      "Epoch 20/75\n",
      "Learning rate: 0.0001350851717672993\n",
      "86/86 [==============================] - 0s 5ms/step - loss: 0.9116 - accuracy: 0.7747 - val_loss: 0.9730 - val_accuracy: 0.7671\n",
      "Epoch 21/75\n",
      "Learning rate: 0.00012157665459056935\n",
      "86/86 [==============================] - 0s 4ms/step - loss: 0.8961 - accuracy: 0.7768 - val_loss: 0.9420 - val_accuracy: 0.7773\n",
      "Epoch 22/75\n",
      "Learning rate: 0.00010941898913151242\n",
      "86/86 [==============================] - 0s 4ms/step - loss: 0.8653 - accuracy: 0.7772 - val_loss: 0.9221 - val_accuracy: 0.7802\n",
      "Epoch 23/75\n",
      "Learning rate: 9.847709021836118e-05\n",
      "86/86 [==============================] - 0s 4ms/step - loss: 0.8610 - accuracy: 0.7783 - val_loss: 0.9054 - val_accuracy: 0.7831\n",
      "Epoch 24/75\n",
      "Learning rate: 8.862938119652506e-05\n",
      "86/86 [==============================] - 0s 5ms/step - loss: 0.8395 - accuracy: 0.7783 - val_loss: 0.8931 - val_accuracy: 0.7831\n",
      "Epoch 25/75\n",
      "Learning rate: 7.976644307687256e-05\n",
      "86/86 [==============================] - 0s 5ms/step - loss: 0.8184 - accuracy: 0.7852 - val_loss: 0.8870 - val_accuracy: 0.7831\n",
      "Epoch 26/75\n",
      "Learning rate: 7.17897987691853e-05\n",
      "86/86 [==============================] - 0s 5ms/step - loss: 0.8474 - accuracy: 0.7758 - val_loss: 0.8832 - val_accuracy: 0.7846\n",
      "Epoch 27/75\n",
      "Learning rate: 6.461081889226677e-05\n",
      "86/86 [==============================] - 0s 4ms/step - loss: 0.8066 - accuracy: 0.7823 - val_loss: 0.8620 - val_accuracy: 0.7860\n",
      "Epoch 28/75\n",
      "Learning rate: 5.8149737003040094e-05\n",
      "86/86 [==============================] - 0s 4ms/step - loss: 0.7907 - accuracy: 0.7849 - val_loss: 0.8560 - val_accuracy: 0.7875\n",
      "Epoch 29/75\n",
      "Learning rate: 5.233476330273609e-05\n",
      "86/86 [==============================] - 0s 4ms/step - loss: 0.7959 - accuracy: 0.7823 - val_loss: 0.8466 - val_accuracy: 0.7875\n",
      "Epoch 30/75\n",
      "Learning rate: 4.7101286972462485e-05\n",
      "86/86 [==============================] - 0s 5ms/step - loss: 0.7824 - accuracy: 0.7914 - val_loss: 0.8414 - val_accuracy: 0.7889\n",
      "Epoch 31/75\n",
      "Learning rate: 4.239115827521624e-05\n",
      "86/86 [==============================] - 0s 4ms/step - loss: 0.7796 - accuracy: 0.7907 - val_loss: 0.8439 - val_accuracy: 0.7962\n",
      "Epoch 32/75\n",
      "Learning rate: 3.8152042447694614e-05\n",
      "86/86 [==============================] - 0s 5ms/step - loss: 0.7720 - accuracy: 0.7907 - val_loss: 0.8402 - val_accuracy: 0.7962\n",
      "Epoch 33/75\n",
      "Learning rate: 3.433683820292515e-05\n",
      "86/86 [==============================] - 0s 5ms/step - loss: 0.7618 - accuracy: 0.7863 - val_loss: 0.8259 - val_accuracy: 0.7904\n",
      "Epoch 34/75\n",
      "Learning rate: 3.090315438263264e-05\n",
      "86/86 [==============================] - 0s 4ms/step - loss: 0.7569 - accuracy: 0.7910 - val_loss: 0.8303 - val_accuracy: 0.7977\n",
      "Epoch 35/75\n",
      "Learning rate: 2.7812838944369376e-05\n",
      "86/86 [==============================] - 0s 5ms/step - loss: 0.7493 - accuracy: 0.7900 - val_loss: 0.8161 - val_accuracy: 0.7933\n",
      "Epoch 36/75\n",
      "Learning rate: 2.5031555049932436e-05\n",
      "86/86 [==============================] - 0s 5ms/step - loss: 0.7486 - accuracy: 0.7881 - val_loss: 0.8125 - val_accuracy: 0.7918\n",
      "Epoch 37/75\n",
      "Learning rate: 2.2528399544939195e-05\n",
      "86/86 [==============================] - 0s 5ms/step - loss: 0.7511 - accuracy: 0.7929 - val_loss: 0.8105 - val_accuracy: 0.7948\n",
      "Epoch 38/75\n",
      "Learning rate: 2.0275559590445276e-05\n",
      "86/86 [==============================] - 0s 4ms/step - loss: 0.7404 - accuracy: 0.7954 - val_loss: 0.8072 - val_accuracy: 0.7918\n",
      "Epoch 39/75\n",
      "Learning rate: 1.824800363140075e-05\n",
      "86/86 [==============================] - 0s 4ms/step - loss: 0.7399 - accuracy: 0.7936 - val_loss: 0.8039 - val_accuracy: 0.7918\n",
      "Epoch 40/75\n",
      "Learning rate: 1.6423203268260675e-05\n",
      "86/86 [==============================] - 0s 5ms/step - loss: 0.7351 - accuracy: 0.7961 - val_loss: 0.8249 - val_accuracy: 0.7948\n",
      "Epoch 41/75\n",
      "Learning rate: 1.4780882941434608e-05\n",
      "86/86 [==============================] - 0s 4ms/step - loss: 0.7340 - accuracy: 0.7976 - val_loss: 0.8071 - val_accuracy: 0.7904\n",
      "Epoch 42/75\n",
      "Learning rate: 1.3302794647291146e-05\n",
      "86/86 [==============================] - 0s 4ms/step - loss: 0.7395 - accuracy: 0.7943 - val_loss: 0.7978 - val_accuracy: 0.7933\n",
      "Epoch 43/75\n",
      "Learning rate: 1.1972515182562033e-05\n",
      "86/86 [==============================] - 0s 4ms/step - loss: 0.7300 - accuracy: 0.7969 - val_loss: 0.7960 - val_accuracy: 0.7918\n",
      "Epoch 44/75\n",
      "Learning rate: 1.077526366430583e-05\n",
      "86/86 [==============================] - 0s 5ms/step - loss: 0.7300 - accuracy: 0.7954 - val_loss: 0.7945 - val_accuracy: 0.7933\n",
      "Epoch 45/75\n",
      "Learning rate: 9.697737297875246e-06\n",
      "86/86 [==============================] - 0s 4ms/step - loss: 0.7291 - accuracy: 0.7954 - val_loss: 0.7925 - val_accuracy: 0.7918\n",
      "Epoch 46/75\n",
      "Learning rate: 8.727963568087722e-06\n",
      "86/86 [==============================] - 0s 4ms/step - loss: 0.7225 - accuracy: 0.7969 - val_loss: 0.7935 - val_accuracy: 0.7904\n",
      "Epoch 47/75\n",
      "Learning rate: 7.85516721127895e-06\n",
      "86/86 [==============================] - 0s 5ms/step - loss: 0.7235 - accuracy: 0.7994 - val_loss: 0.7900 - val_accuracy: 0.7918\n",
      "Epoch 48/75\n",
      "Learning rate: 7.069650490151056e-06\n"
     ]
    },
    {
     "name": "stdout",
     "output_type": "stream",
     "text": [
      "86/86 [==============================] - 0s 4ms/step - loss: 0.7201 - accuracy: 0.7961 - val_loss: 0.7921 - val_accuracy: 0.7918\n",
      "Epoch 49/75\n",
      "Learning rate: 6.36268544113595e-06\n",
      "86/86 [==============================] - 0s 4ms/step - loss: 0.7207 - accuracy: 0.7972 - val_loss: 0.7885 - val_accuracy: 0.7933\n",
      "Epoch 50/75\n",
      "Learning rate: 5.726416897022355e-06\n",
      "86/86 [==============================] - 0s 4ms/step - loss: 0.7195 - accuracy: 0.7980 - val_loss: 0.7879 - val_accuracy: 0.8020\n",
      "Epoch 51/75\n",
      "Learning rate: 5.15377520732012e-06\n",
      "86/86 [==============================] - 0s 4ms/step - loss: 0.7182 - accuracy: 0.8005 - val_loss: 0.7876 - val_accuracy: 0.7933\n",
      "Epoch 52/75\n",
      "Learning rate: 4.638397686588108e-06\n",
      "86/86 [==============================] - 0s 4ms/step - loss: 0.7170 - accuracy: 0.8012 - val_loss: 0.7861 - val_accuracy: 0.8006\n",
      "Epoch 53/75\n",
      "Learning rate: 4.174557917929297e-06\n",
      "86/86 [==============================] - 0s 4ms/step - loss: 0.7155 - accuracy: 0.7976 - val_loss: 0.7852 - val_accuracy: 0.7933\n",
      "Epoch 54/75\n",
      "Learning rate: 3.7571021261363675e-06\n",
      "86/86 [==============================] - 0s 4ms/step - loss: 0.7156 - accuracy: 0.7998 - val_loss: 0.7851 - val_accuracy: 0.7933\n",
      "Epoch 55/75\n",
      "Learning rate: 3.381391913522731e-06\n",
      "86/86 [==============================] - 0s 4ms/step - loss: 0.7152 - accuracy: 0.7991 - val_loss: 0.7838 - val_accuracy: 0.7933\n",
      "Epoch 56/75\n",
      "Learning rate: 3.0432527221704577e-06\n",
      "86/86 [==============================] - 0s 5ms/step - loss: 0.7144 - accuracy: 0.8016 - val_loss: 0.7832 - val_accuracy: 0.7918\n",
      "Epoch 57/75\n",
      "Learning rate: 2.7389274499534123e-06\n",
      "86/86 [==============================] - 0s 4ms/step - loss: 0.7167 - accuracy: 0.7972 - val_loss: 0.7830 - val_accuracy: 0.7991\n",
      "Epoch 58/75\n",
      "Learning rate: 2.465034704958071e-06\n",
      "86/86 [==============================] - 0s 4ms/step - loss: 0.7132 - accuracy: 0.8023 - val_loss: 0.7824 - val_accuracy: 0.7933\n",
      "Epoch 59/75\n",
      "Learning rate: 2.218531234462264e-06\n",
      "86/86 [==============================] - 0s 4ms/step - loss: 0.7127 - accuracy: 0.8020 - val_loss: 0.7820 - val_accuracy: 0.7933\n",
      "Epoch 60/75\n",
      "Learning rate: 1.9966781110160375e-06\n",
      "86/86 [==============================] - 0s 4ms/step - loss: 0.7122 - accuracy: 0.8027 - val_loss: 0.7818 - val_accuracy: 0.7933\n",
      "Epoch 61/75\n",
      "Learning rate: 1.797010299914434e-06\n",
      "86/86 [==============================] - 0s 4ms/step - loss: 0.7121 - accuracy: 0.8001 - val_loss: 0.7814 - val_accuracy: 0.7948\n",
      "Epoch 62/75\n",
      "Learning rate: 1.6173092699229906e-06\n",
      "86/86 [==============================] - 0s 4ms/step - loss: 0.7118 - accuracy: 0.8023 - val_loss: 0.7812 - val_accuracy: 0.7918\n",
      "Epoch 63/75\n",
      "Learning rate: 1.4555783429306915e-06\n",
      "86/86 [==============================] - 0s 4ms/step - loss: 0.7115 - accuracy: 0.8016 - val_loss: 0.7809 - val_accuracy: 0.7948\n",
      "Epoch 64/75\n",
      "Learning rate: 1.3100205086376223e-06\n",
      "86/86 [==============================] - 0s 4ms/step - loss: 0.7118 - accuracy: 0.8001 - val_loss: 0.7807 - val_accuracy: 0.7948\n",
      "Epoch 65/75\n",
      "Learning rate: 1.1790184577738603e-06\n",
      "86/86 [==============================] - 0s 5ms/step - loss: 0.7111 - accuracy: 0.8031 - val_loss: 0.7805 - val_accuracy: 0.7948\n",
      "Epoch 66/75\n",
      "Learning rate: 1.061116611996474e-06\n",
      "86/86 [==============================] - 0s 5ms/step - loss: 0.7106 - accuracy: 0.8031 - val_loss: 0.7803 - val_accuracy: 0.7948\n",
      "Epoch 67/75\n",
      "Learning rate: 9.550049507968267e-07\n",
      "86/86 [==============================] - 0s 4ms/step - loss: 0.7105 - accuracy: 0.8027 - val_loss: 0.7802 - val_accuracy: 0.7948\n",
      "Epoch 68/75\n",
      "Learning rate: 8.595044557171441e-07\n",
      "86/86 [==============================] - 0s 4ms/step - loss: 0.7104 - accuracy: 0.8031 - val_loss: 0.7800 - val_accuracy: 0.7948\n",
      "Epoch 69/75\n",
      "Learning rate: 7.735540101454298e-07\n",
      "86/86 [==============================] - 0s 4ms/step - loss: 0.7101 - accuracy: 0.8023 - val_loss: 0.7799 - val_accuracy: 0.7948\n",
      "Epoch 70/75\n",
      "Learning rate: 6.961986091308867e-07\n",
      "86/86 [==============================] - 0s 4ms/step - loss: 0.7099 - accuracy: 0.8016 - val_loss: 0.7798 - val_accuracy: 0.7948\n",
      "Epoch 71/75\n",
      "Learning rate: 6.265787482177981e-07\n",
      "86/86 [==============================] - 0s 5ms/step - loss: 0.7100 - accuracy: 0.8023 - val_loss: 0.7797 - val_accuracy: 0.7948\n",
      "Epoch 72/75\n",
      "Learning rate: 5.639208733960184e-07\n",
      "86/86 [==============================] - 0s 4ms/step - loss: 0.7098 - accuracy: 0.8023 - val_loss: 0.7796 - val_accuracy: 0.7933\n",
      "Epoch 73/75\n",
      "Learning rate: 5.075287860564166e-07\n",
      "86/86 [==============================] - 0s 5ms/step - loss: 0.7099 - accuracy: 0.8020 - val_loss: 0.7795 - val_accuracy: 0.7948\n",
      "Epoch 74/75\n",
      "Learning rate: 4.5677590745077486e-07\n",
      "86/86 [==============================] - 0s 5ms/step - loss: 0.7096 - accuracy: 0.8027 - val_loss: 0.7794 - val_accuracy: 0.7948\n",
      "Epoch 75/75\n",
      "Learning rate: 4.110983167056974e-07\n",
      "86/86 [==============================] - 0s 5ms/step - loss: 0.7095 - accuracy: 0.8023 - val_loss: 0.7793 - val_accuracy: 0.7948\n"
     ]
    }
   ],
   "source": [
    "def lr_scheduler(epoch):\n",
    "    new_lr = init_lr * 0.9 ** epoch\n",
    "    print(\"Learning rate:\", new_lr)\n",
    "    return new_lr\n",
    "\n",
    "\n",
    "# Train the model on data\n",
    "history = model.fit(x = x_training_data,\n",
    "          y = y_training_data,\n",
    "          epochs = epochs,\n",
    "          shuffle = True,\n",
    "          verbose = 1,\n",
    "          initial_epoch = 0,\n",
    "          callbacks=[tf.keras.callbacks.LearningRateScheduler(lr_scheduler)],\n",
    "          validation_data = (x_test_data, y_test_data)\n",
    "         )"
   ]
  },
  {
   "cell_type": "code",
   "execution_count": 462,
   "metadata": {},
   "outputs": [
    {
     "name": "stdout",
     "output_type": "stream",
     "text": [
      "Test loss: 0.7793468236923218\n",
      "Test accuracy: 0.7947598099708557\n"
     ]
    }
   ],
   "source": [
    "score = model.evaluate(x_test_data, y_test_data, verbose = 0)\n",
    "print('Test loss:', score[0])\n",
    "print('Test accuracy:', score[1])"
   ]
  },
  {
   "cell_type": "code",
   "execution_count": 463,
   "metadata": {},
   "outputs": [
    {
     "data": {
      "image/png": "[encoded data removed]",
      "text/plain": [
       "<Figure size 432x288 with 1 Axes>"
      ]
     },
     "metadata": {
      "needs_background": "light"
     },
     "output_type": "display_data"
    },
    {
     "data": {
      "image/png": "[encoded data removed]",
      "text/plain": [
       "<Figure size 432x288 with 1 Axes>"
      ]
     },
     "metadata": {
      "needs_background": "light"
     },
     "output_type": "display_data"
    }
   ],
   "source": [
    "plt.plot(history.history['accuracy'])\n",
    "plt.plot(history.history['val_accuracy'])\n",
    "plt.title('model accuracy')\n",
    "plt.ylabel('accuracy')\n",
    "plt.xlabel('epoch')\n",
    "plt.legend(['train', 'test'], loc='upper left')\n",
    "plt.show()\n",
    "\n",
    "plt.plot(history.history['loss'])\n",
    "plt.plot(history.history['val_loss'])\n",
    "plt.title('model loss')\n",
    "plt.ylabel('loss')\n",
    "plt.xlabel('epoch')\n",
    "plt.legend(['train', 'test'], loc='upper left')\n",
    "plt.show()"
   ]
  },
  {
   "cell_type": "markdown",
   "metadata": {},
   "source": [
    "**We are able to achieve a very high accuracy with just one hidden layer and very less number of neurons. The reason for this could be that the data is in a linearly separable hyperplane.** We can verify this by fitting this model to the SVM model. With the linear kernel, we should be getting a very high accuracy in this situation."
   ]
  },
  {
   "cell_type": "code",
   "execution_count": 459,
   "metadata": {},
   "outputs": [
    {
     "name": "stdout",
     "output_type": "stream",
     "text": [
      "Accuracy:  1.0\n",
      "Precision: 1.0\n",
      "Recall: 1.0\n"
     ]
    }
   ],
   "source": [
    "clf = svm.SVC(kernel = 'linear')\n",
    "clf.fit(x_training_data, y_training_data.to_numpy().flatten())\n",
    "y_pred = clf.predict(x_test_data)\n",
    "print(\"Accuracy: \", metrics.accuracy_score(y_test_data, y_pred))\n",
    "print(\"Precision:\",metrics.precision_score(y_test_data, y_pred))\n",
    "print(\"Recall:\",metrics.recall_score(y_test_data, y_pred))"
   ]
  },
  {
   "cell_type": "code",
   "execution_count": 464,
   "metadata": {},
   "outputs": [
    {
     "data": {
      "text/plain": [
       "[array([[-0.22246373, -0.24569103],\n",
       "        [ 0.31511787,  0.08477948],\n",
       "        [ 0.24549863,  0.20033395],\n",
       "        [-0.1447477 , -0.17950615],\n",
       "        [-0.20390701,  0.04341399],\n",
       "        [-0.15742896, -0.2611222 ],\n",
       "        [ 0.07995757, -0.18919896],\n",
       "        [ 0.09652849, -0.12543485],\n",
       "        [-0.31324342, -0.18777852],\n",
       "        [-0.21932535,  0.15768242],\n",
       "        [-0.11400485,  0.32423365],\n",
       "        [-0.15756656, -0.01264364],\n",
       "        [ 0.34741583,  0.04246871],\n",
       "        [-0.26929033, -0.10603309],\n",
       "        [-0.23058224, -0.11943485],\n",
       "        [-0.00272805,  0.382596  ],\n",
       "        [ 0.22419032,  0.24222006],\n",
       "        [ 0.33703968, -0.16297829],\n",
       "        [-0.17297249, -0.05792554],\n",
       "        [ 0.23338974, -0.16820596],\n",
       "        [-0.06982149, -0.25447544],\n",
       "        [-0.1625563 ,  0.09494158],\n",
       "        [-0.22064494,  0.30582064],\n",
       "        [-0.2457376 ,  0.0829804 ],\n",
       "        [-0.05508283, -0.3633585 ],\n",
       "        [-0.02972331, -0.20750555],\n",
       "        [ 0.26083523,  0.27785155],\n",
       "        [-0.19526781, -0.15861809],\n",
       "        [ 0.08489339,  0.33974844],\n",
       "        [-0.22189687,  0.32553622],\n",
       "        [ 0.18787205,  0.00771769],\n",
       "        [ 0.26646486,  0.02300769],\n",
       "        [ 0.13277583,  0.21430331],\n",
       "        [-0.43601227,  0.23964407],\n",
       "        [-0.15878746, -0.2327073 ],\n",
       "        [ 0.12897536,  0.20536731],\n",
       "        [-0.13423999,  0.17423353],\n",
       "        [ 0.37962115,  0.06834957]], dtype=float32),\n",
       " array([ 3.4384426e-05, -3.4414781e-05], dtype=float32)]"
      ]
     },
     "execution_count": 464,
     "metadata": {},
     "output_type": "execute_result"
    }
   ],
   "source": [
    "model.get_weights()"
   ]
  },
  {
   "cell_type": "code",
   "execution_count": null,
   "metadata": {},
   "outputs": [],
   "source": []
  }
 ],
 "metadata": {
  "interpreter": {
   "hash": "b0fa6594d8f4cbf19f97940f81e996739fb7646882a419484c72d19e05852a7e"
  },
  "kernelspec": {
   "display_name": "Python 3.9 (tensorflow)",
   "language": "python",
   "name": "tensorflow"
  },
  "language_info": {
   "codemirror_mode": {
    "name": "ipython",
    "version": 3
   },
   "file_extension": ".py",
   "mimetype": "text/x-python",
   "name": "python",
   "nbconvert_exporter": "python",
   "pygments_lexer": "ipython3",
   "version": "3.9.12"
  }
 },
 "nbformat": 4,
 "nbformat_minor": 2
}
