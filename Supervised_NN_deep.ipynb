{
  "nbformat": 4,
  "nbformat_minor": 0,
  "metadata": {
    "colab": {
      "name": "Copy1 of ML_project.ipynb",
      "provenance": []
    },
    "kernelspec": {
      "name": "python3",
      "display_name": "Python 3"
    },
    "language_info": {
      "name": "python"
    }
  },
  "cells": [
    {
      "cell_type": "code",
      "source": [
        "from __future__ import print_function, division\n",
        "import os\n",
        "import torch\n",
        "import pandas as pd\n",
        "from skimage import io, transform\n",
        "import numpy as np\n",
        "import matplotlib.pyplot as plt\n",
        "\n",
        "# Ignore warnings\n",
        "import warnings\n",
        "warnings.filterwarnings(\"ignore\")\n",
        "\n",
        "plt.ion()   # interactive mode"
      ],
      "metadata": {
        "id": "yixzuJQBIEEc"
      },
      "execution_count": 1,
      "outputs": []
    },
    {
      "cell_type": "code",
      "source": [
        "data_frame = pd.read_csv('supervised.csv')\n",
        "\n",
        "n = 65\n",
        "\n",
        "a1 = np.sort(data_frame.iloc[:,0].unique())\n",
        "a2 = np.sort(data_frame.iloc[:,1].unique())\n",
        "np.array_equal(a1, a2, equal_nan=False)\n",
        "team_dict={}\n",
        "count = 0\n",
        "for i in a1:\n",
        "  team_dict[i] = count\n",
        "  count+=1\n",
        "num_teams = len(a1)\n",
        "temp = np.empty((len(data_frame),len(a1)))\n",
        "temp2 = np.empty((len(data_frame),len(a1)))\n",
        "for i in range(len(data_frame)):\n",
        "  temp[i] = np.zeros(num_teams)\n",
        "  temp[i,team_dict[data_frame.iloc[i,0] ]] = 1\n",
        "  temp2[i] = np.zeros(num_teams)\n",
        "  temp2[i,team_dict[data_frame.iloc[i,1] ]] = 1\n",
        "#print(data_frame.iloc[i])\n",
        "\n",
        "\n",
        "data_frame=data_frame.drop(columns=['date','home_points','away_points','home_elo_before','away_elo_before']) #####INCORPORATE DATE LATER\n",
        "#print(data_frame.iloc[i])\n",
        "x = data_frame.to_numpy()\n",
        "\n",
        "x =  np.concatenate((temp,temp2,x),axis = 1)\n",
        "#print(x[0,60],x[0,61])\n",
        "x= np.delete(x,60,axis = 1)\n",
        "x =np.delete(x,60,axis = 1)\n",
        "x = torch.tensor(x.astype(float))\n",
        "#print(x[0])\n",
        "x.shape"
      ],
      "metadata": {
        "id": "Y_RnZKTeIGv_",
        "outputId": "d18341c0-3a19-424a-cc3f-8d42f52cb5da",
        "colab": {
          "base_uri": "https://localhost:8080/"
        }
      },
      "execution_count": 2,
      "outputs": [
        {
          "output_type": "execute_result",
          "data": {
            "text/plain": [
              "torch.Size([3434, 95])"
            ]
          },
          "metadata": {},
          "execution_count": 2
        }
      ]
    },
    {
      "cell_type": "code",
      "source": [
        "#randomly shuffle\n",
        "x=x[torch.randperm(x.size()[0])]\n",
        "num_train = int(x.shape[0] *0.8)\n",
        "num_test = x.shape[0] - num_train\n",
        "print(num_train,num_test)\n",
        "x_train = x[:num_train,:-1]\n",
        "y_train = x[:num_train,-1]\n",
        "x_test = x[num_train:,:-1]\n",
        "y_test = x[num_train:,-1]\n",
        "print(x_train.shape,y_train.shape,x_test.shape,y_test.shape)"
      ],
      "metadata": {
        "colab": {
          "base_uri": "https://localhost:8080/"
        },
        "id": "XDApNfhiFYgn",
        "outputId": "1ea9da44-36fd-4d76-804e-f6237f0c1ae7"
      },
      "execution_count": 36,
      "outputs": [
        {
          "output_type": "stream",
          "name": "stdout",
          "text": [
            "2747 687\n",
            "torch.Size([2747, 94]) torch.Size([2747]) torch.Size([687, 94]) torch.Size([687])\n"
          ]
        }
      ]
    },
    {
      "cell_type": "code",
      "source": [
        "import tensorflow as tf\n",
        "import math\n",
        "from tensorflow import keras\n",
        "from tensorflow.keras import models, layers\n",
        "from keras import optimizers\n",
        "from keras.models import Sequential\n",
        "#from keras.optimizers import SGD\n",
        "from keras.layers import Dense, Dropout, Activation\n",
        "\n",
        "from sklearn.utils import shuffle\n",
        "np_xtrain = x_train.numpy()\n",
        "np_ytrain = y_train.numpy()\n",
        "np_xtest = x_test.numpy()\n",
        "np_ytest = y_test.numpy()\n",
        "model = models.Sequential([\n",
        "    #layers.Flatten(input_shape=(99,)), \n",
        "    #layers.Dropout(0.25),\n",
        "    layers.Dense(99, activation=tf.nn.relu), \n",
        "    #layers.Dropout(0.5),\n",
        "    #layers.Dense(500, activation=tf.nn.relu), \n",
        "    #layers.Dropout(0.5),\n",
        "    layers.Dense(200, activation=tf.nn.relu),\n",
        "    layers.Dropout(0.5),\n",
        "    layers.Dense(100, activation=tf.nn.relu),\n",
        "    #layers.Dense(100, activation=tf.nn.relu),\n",
        "    #layers.Dense(100, activation=tf.nn.relu),\n",
        "    layers.Dense(50, activation=tf.nn.relu),\n",
        "    layers.Dropout(0.5),\n",
        "    layers.Dense(2, activation=tf.nn.softmax)\n",
        "])\n",
        "\n",
        "model.compile(optimizer=keras.optimizers.Adam(lr=1e-5),\n",
        "              loss='sparse_categorical_crossentropy',\n",
        "              metrics=['accuracy']) #'adam'\n",
        "\n"
      ],
      "metadata": {
        "id": "Uh5k1se9kGwt"
      },
      "execution_count": 47,
      "outputs": []
    },
    {
      "cell_type": "code",
      "source": [
        "history = model.fit(np_xtrain, np_ytrain,validation_data = (np_xtest,np_ytest), epochs=50, batch_size=50)"
      ],
      "metadata": {
        "id": "5AXesGFAFatt",
        "colab": {
          "base_uri": "https://localhost:8080/"
        },
        "outputId": "b93f63dd-cb76-4229-b634-fedbf3fa9cc6"
      },
      "execution_count": null,
      "outputs": [
        {
          "output_type": "stream",
          "name": "stdout",
          "text": [
            "Epoch 1/65\n",
            "55/55 [==============================] - 2s 21ms/step - loss: 57.1119 - accuracy: 0.5126 - val_loss: 18.4586 - val_accuracy: 0.5444\n",
            "Epoch 2/65\n",
            "55/55 [==============================] - 1s 9ms/step - loss: 49.9543 - accuracy: 0.4944 - val_loss: 14.6423 - val_accuracy: 0.5415\n",
            "Epoch 3/65\n",
            "55/55 [==============================] - 0s 7ms/step - loss: 41.7068 - accuracy: 0.4929 - val_loss: 10.1413 - val_accuracy: 0.5400\n",
            "Epoch 4/65\n",
            "55/55 [==============================] - 0s 8ms/step - loss: 34.4902 - accuracy: 0.5126 - val_loss: 7.3885 - val_accuracy: 0.5415\n",
            "Epoch 5/65\n",
            "55/55 [==============================] - 0s 8ms/step - loss: 31.2146 - accuracy: 0.5166 - val_loss: 7.0940 - val_accuracy: 0.5560\n",
            "Epoch 6/65\n",
            "55/55 [==============================] - 0s 9ms/step - loss: 26.7879 - accuracy: 0.5228 - val_loss: 5.7385 - val_accuracy: 0.5721\n",
            "Epoch 7/65\n",
            "55/55 [==============================] - 0s 9ms/step - loss: 23.7625 - accuracy: 0.5020 - val_loss: 4.4984 - val_accuracy: 0.5924\n",
            "Epoch 8/65\n",
            "55/55 [==============================] - 0s 8ms/step - loss: 21.5176 - accuracy: 0.5126 - val_loss: 5.3102 - val_accuracy: 0.5997\n",
            "Epoch 9/65\n",
            "55/55 [==============================] - 1s 11ms/step - loss: 18.6254 - accuracy: 0.5464 - val_loss: 4.2635 - val_accuracy: 0.6041\n",
            "Epoch 10/65\n",
            "55/55 [==============================] - 1s 11ms/step - loss: 17.4130 - accuracy: 0.5169 - val_loss: 3.6022 - val_accuracy: 0.6055\n",
            "Epoch 11/65\n",
            "55/55 [==============================] - 1s 11ms/step - loss: 14.9488 - accuracy: 0.5319 - val_loss: 3.6328 - val_accuracy: 0.6114\n",
            "Epoch 12/65\n",
            "55/55 [==============================] - 1s 9ms/step - loss: 13.1870 - accuracy: 0.5319 - val_loss: 3.2562 - val_accuracy: 0.6172\n",
            "Epoch 13/65\n",
            "55/55 [==============================] - 1s 9ms/step - loss: 12.3760 - accuracy: 0.5431 - val_loss: 3.0173 - val_accuracy: 0.6332\n",
            "Epoch 14/65\n",
            "55/55 [==============================] - 1s 9ms/step - loss: 12.0225 - accuracy: 0.5293 - val_loss: 3.0775 - val_accuracy: 0.6230\n",
            "Epoch 15/65\n",
            "55/55 [==============================] - 1s 9ms/step - loss: 10.9939 - accuracy: 0.5260 - val_loss: 2.6878 - val_accuracy: 0.6346\n",
            "Epoch 16/65\n",
            "55/55 [==============================] - 0s 7ms/step - loss: 10.3269 - accuracy: 0.5384 - val_loss: 2.6277 - val_accuracy: 0.6274\n",
            "Epoch 17/65\n",
            "55/55 [==============================] - 0s 8ms/step - loss: 9.7625 - accuracy: 0.5224 - val_loss: 2.4777 - val_accuracy: 0.6361\n",
            "Epoch 18/65\n",
            "55/55 [==============================] - 1s 10ms/step - loss: 8.8016 - accuracy: 0.5439 - val_loss: 2.4820 - val_accuracy: 0.6419\n",
            "Epoch 19/65\n",
            "55/55 [==============================] - 0s 7ms/step - loss: 7.8048 - accuracy: 0.5468 - val_loss: 2.2161 - val_accuracy: 0.6303\n",
            "Epoch 20/65\n",
            "55/55 [==============================] - 0s 7ms/step - loss: 7.7539 - accuracy: 0.5377 - val_loss: 2.1515 - val_accuracy: 0.6288\n",
            "Epoch 21/65\n",
            "55/55 [==============================] - 0s 4ms/step - loss: 7.0925 - accuracy: 0.5315 - val_loss: 1.8826 - val_accuracy: 0.6274\n",
            "Epoch 22/65\n",
            "55/55 [==============================] - 0s 3ms/step - loss: 6.6268 - accuracy: 0.5446 - val_loss: 1.8266 - val_accuracy: 0.6405\n",
            "Epoch 23/65\n",
            "55/55 [==============================] - 0s 4ms/step - loss: 5.9394 - accuracy: 0.5289 - val_loss: 1.8346 - val_accuracy: 0.6215\n",
            "Epoch 24/65\n",
            "55/55 [==============================] - 0s 4ms/step - loss: 5.7298 - accuracy: 0.5355 - val_loss: 1.6358 - val_accuracy: 0.6172\n",
            "Epoch 25/65\n",
            "55/55 [==============================] - 0s 4ms/step - loss: 5.0504 - accuracy: 0.5417 - val_loss: 1.5985 - val_accuracy: 0.6361\n",
            "Epoch 26/65\n",
            "55/55 [==============================] - 0s 4ms/step - loss: 4.7174 - accuracy: 0.5675 - val_loss: 1.5378 - val_accuracy: 0.6026\n",
            "Epoch 27/65\n",
            "55/55 [==============================] - 0s 4ms/step - loss: 4.4815 - accuracy: 0.5526 - val_loss: 1.4506 - val_accuracy: 0.6303\n",
            "Epoch 28/65\n",
            "55/55 [==============================] - 0s 4ms/step - loss: 4.3161 - accuracy: 0.5493 - val_loss: 1.5343 - val_accuracy: 0.6346\n",
            "Epoch 29/65\n",
            "55/55 [==============================] - 0s 4ms/step - loss: 4.0537 - accuracy: 0.5442 - val_loss: 1.3740 - val_accuracy: 0.6070\n",
            "Epoch 30/65\n",
            "55/55 [==============================] - 0s 4ms/step - loss: 3.9956 - accuracy: 0.5424 - val_loss: 1.2493 - val_accuracy: 0.6070\n",
            "Epoch 31/65\n",
            "55/55 [==============================] - 0s 4ms/step - loss: 3.3858 - accuracy: 0.5726 - val_loss: 1.2544 - val_accuracy: 0.6303\n",
            "Epoch 32/65\n",
            "55/55 [==============================] - 0s 4ms/step - loss: 3.4367 - accuracy: 0.5439 - val_loss: 1.1562 - val_accuracy: 0.6259\n",
            "Epoch 33/65\n",
            "55/55 [==============================] - 0s 4ms/step - loss: 3.0953 - accuracy: 0.5431 - val_loss: 1.1509 - val_accuracy: 0.6332\n",
            "Epoch 34/65\n",
            "55/55 [==============================] - 0s 3ms/step - loss: 2.9463 - accuracy: 0.5479 - val_loss: 1.1286 - val_accuracy: 0.6274\n",
            "Epoch 35/65\n",
            "55/55 [==============================] - 0s 3ms/step - loss: 2.8138 - accuracy: 0.5461 - val_loss: 1.1207 - val_accuracy: 0.6332\n",
            "Epoch 36/65\n",
            "55/55 [==============================] - 0s 4ms/step - loss: 2.5788 - accuracy: 0.5453 - val_loss: 0.9576 - val_accuracy: 0.6114\n",
            "Epoch 37/65\n",
            "55/55 [==============================] - 0s 3ms/step - loss: 2.4560 - accuracy: 0.5464 - val_loss: 0.9126 - val_accuracy: 0.6186\n",
            "Epoch 38/65\n",
            "55/55 [==============================] - 0s 4ms/step - loss: 2.2993 - accuracy: 0.5395 - val_loss: 0.9155 - val_accuracy: 0.5997\n",
            "Epoch 39/65\n",
            "55/55 [==============================] - 0s 3ms/step - loss: 2.2066 - accuracy: 0.5362 - val_loss: 0.8286 - val_accuracy: 0.6172\n",
            "Epoch 40/65\n",
            "55/55 [==============================] - 0s 4ms/step - loss: 1.9435 - accuracy: 0.5613 - val_loss: 0.8731 - val_accuracy: 0.6317\n",
            "Epoch 41/65\n",
            "55/55 [==============================] - 0s 3ms/step - loss: 1.9576 - accuracy: 0.5359 - val_loss: 0.8020 - val_accuracy: 0.6070\n",
            "Epoch 42/65\n",
            "55/55 [==============================] - 0s 3ms/step - loss: 1.8104 - accuracy: 0.5570 - val_loss: 0.7812 - val_accuracy: 0.5866\n",
            "Epoch 43/65\n",
            "55/55 [==============================] - 0s 4ms/step - loss: 1.7436 - accuracy: 0.5402 - val_loss: 0.7714 - val_accuracy: 0.6099\n",
            "Epoch 44/65\n",
            "55/55 [==============================] - 0s 3ms/step - loss: 1.7132 - accuracy: 0.5344 - val_loss: 0.7275 - val_accuracy: 0.6288\n",
            "Epoch 45/65\n",
            "55/55 [==============================] - 0s 3ms/step - loss: 1.5600 - accuracy: 0.5395 - val_loss: 0.7464 - val_accuracy: 0.6172\n",
            "Epoch 46/65\n",
            "55/55 [==============================] - 0s 3ms/step - loss: 1.5268 - accuracy: 0.5351 - val_loss: 0.6954 - val_accuracy: 0.6186\n",
            "Epoch 47/65\n",
            "55/55 [==============================] - 0s 4ms/step - loss: 1.4029 - accuracy: 0.5439 - val_loss: 0.7199 - val_accuracy: 0.5983\n",
            "Epoch 48/65\n",
            "55/55 [==============================] - 0s 3ms/step - loss: 1.4253 - accuracy: 0.5380 - val_loss: 0.7086 - val_accuracy: 0.6172\n",
            "Epoch 49/65\n",
            "55/55 [==============================] - 0s 3ms/step - loss: 1.3634 - accuracy: 0.5377 - val_loss: 0.7168 - val_accuracy: 0.6157\n",
            "Epoch 50/65\n",
            "55/55 [==============================] - 0s 3ms/step - loss: 1.3325 - accuracy: 0.5359 - val_loss: 0.7085 - val_accuracy: 0.6055\n",
            "Epoch 51/65\n",
            "55/55 [==============================] - 0s 3ms/step - loss: 1.2286 - accuracy: 0.5344 - val_loss: 0.7063 - val_accuracy: 0.6201\n",
            "Epoch 52/65\n",
            "55/55 [==============================] - 0s 4ms/step - loss: 1.1814 - accuracy: 0.5420 - val_loss: 0.6972 - val_accuracy: 0.6099\n",
            "Epoch 53/65\n",
            "55/55 [==============================] - 0s 4ms/step - loss: 1.1666 - accuracy: 0.5424 - val_loss: 0.6967 - val_accuracy: 0.5910\n",
            "Epoch 54/65\n",
            "55/55 [==============================] - 0s 4ms/step - loss: 1.1103 - accuracy: 0.5468 - val_loss: 0.6900 - val_accuracy: 0.6084\n",
            "Epoch 55/65\n",
            "55/55 [==============================] - 0s 4ms/step - loss: 1.1030 - accuracy: 0.5380 - val_loss: 0.6824 - val_accuracy: 0.6157\n",
            "Epoch 56/65\n",
            "55/55 [==============================] - 0s 4ms/step - loss: 1.0633 - accuracy: 0.5366 - val_loss: 0.6750 - val_accuracy: 0.6186\n",
            "Epoch 57/65\n",
            "55/55 [==============================] - 0s 4ms/step - loss: 1.0469 - accuracy: 0.5311 - val_loss: 0.6875 - val_accuracy: 0.6143\n",
            "Epoch 58/65\n",
            "55/55 [==============================] - 0s 4ms/step - loss: 0.9646 - accuracy: 0.5413 - val_loss: 0.6729 - val_accuracy: 0.6288\n",
            "Epoch 59/65\n",
            "55/55 [==============================] - 0s 4ms/step - loss: 0.9637 - accuracy: 0.5479 - val_loss: 0.6795 - val_accuracy: 0.6084\n",
            "Epoch 60/65\n",
            "55/55 [==============================] - 0s 4ms/step - loss: 0.9501 - accuracy: 0.5442 - val_loss: 0.6648 - val_accuracy: 0.6186\n",
            "Epoch 61/65\n",
            "55/55 [==============================] - 0s 3ms/step - loss: 0.9332 - accuracy: 0.5377 - val_loss: 0.6632 - val_accuracy: 0.6114\n",
            "Epoch 62/65\n",
            "55/55 [==============================] - 0s 4ms/step - loss: 0.8787 - accuracy: 0.5501 - val_loss: 0.6642 - val_accuracy: 0.6201\n",
            "Epoch 63/65\n",
            "55/55 [==============================] - 0s 4ms/step - loss: 0.8830 - accuracy: 0.5384 - val_loss: 0.6606 - val_accuracy: 0.6172\n",
            "Epoch 64/65\n",
            "55/55 [==============================] - 0s 4ms/step - loss: 0.8531 - accuracy: 0.5450 - val_loss: 0.6609 - val_accuracy: 0.6114\n",
            "Epoch 65/65\n",
            "55/55 [==============================] - 0s 4ms/step - loss: 0.8356 - accuracy: 0.5533 - val_loss: 0.6584 - val_accuracy: 0.6215\n"
          ]
        }
      ]
    },
    {
      "cell_type": "code",
      "source": [
        "test_loss, test_acc = model.evaluate(np_xtest, np_ytest)\n",
        "\n",
        "print('Test accuracy:', test_acc)\n",
        "acc = history.history['accuracy']\n",
        "#print(history.history.keys())\n",
        "val_acc = history.history['val_accuracy']\n",
        "loss = history.history['loss']\n",
        "val_loss = history.history['val_loss']\n",
        "epochs = range(1,len(acc) + 1)\n",
        "plt.plot(epochs, acc, label='Training acc')\n",
        "plt.plot(epochs, val_acc, label='Validation acc')\n",
        "plt.title('Training and validation accuracy')\n",
        "plt.legend()\n",
        "plt.show()\n",
        "\n",
        "plt.plot(epochs, loss, label='Training loss')\n",
        "plt.plot(epochs, val_loss, label='Validation loss')\n",
        "plt.title('Training  and validation loss')\n",
        "plt.legend()\n",
        "plt.show()"
      ],
      "metadata": {
        "colab": {
          "base_uri": "https://localhost:8080/",
          "height": 580
        },
        "id": "8lCJm-x4h6e4",
        "outputId": "90b44a2a-01b8-4954-ea6c-981dd1514475"
      },
      "execution_count": null,
      "outputs": [
        {
          "output_type": "stream",
          "name": "stdout",
          "text": [
            "22/22 [==============================] - 0s 2ms/step - loss: 0.6547 - accuracy: 0.6084\n",
            "Test accuracy: 0.608442485332489\n"
          ]
        },
        {
          "output_type": "display_data",
          "data": {
            "text/plain": [
              "<Figure size 432x288 with 1 Axes>"
            ],
            "image/png": "[encoded data removed]"
          },
          "metadata": {
            "needs_background": "light"
          }
        },
        {
          "output_type": "display_data",
          "data": {
            "text/plain": [
              "<Figure size 432x288 with 1 Axes>"
            ],
            "image/png": "[encoded data removed]"
          },
          "metadata": {
            "needs_background": "light"
          }
        }
      ]
    }
  ]
}